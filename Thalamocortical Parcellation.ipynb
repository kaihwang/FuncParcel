{
 "metadata": {
  "name": "",
  "signature": "sha256:2a87f866865398b65b9f57071509bda40a1f50ca036c0866a96ea883b7ed53b8"
 },
 "nbformat": 3,
 "nbformat_minor": 0,
 "worksheets": [
  {
   "cells": [
    {
     "cell_type": "markdown",
     "metadata": {},
     "source": [
      "# Here try to do thalamocortical parcellation in python\n"
     ]
    },
    {
     "cell_type": "markdown",
     "metadata": {},
     "source": [
      "ROI information\n",
      "\n",
      "* 3836 ROIs in the 297 thalamocortical parcellation file\n",
      "\n",
      "* 3539 voxels in thalammic parcellation files\n",
      "\n",
      "* 297 ROIs in cortical ROI file\n"
     ]
    },
    {
     "cell_type": "code",
     "collapsed": false,
     "input": [
      "import numpy as np\n",
      "import scipy as sp\n",
      "import scipy.io as sio\n",
      "import matplotlib.pyplot as plt\n",
      "from __future__ import division, print_function"
     ],
     "language": "python",
     "metadata": {},
     "outputs": [],
     "prompt_number": 1
    },
    {
     "cell_type": "markdown",
     "metadata": {},
     "source": [
      "First use 3dNetCorr to create thalamocortical adj matrrices:\n",
      "\n",
      "3dNetCorr -prefix ${s}_thalamocortical_corrmat \\\n",
      "-inset input.nii.gz \\\n",
      "-in_rois WashU297_plus_thalamus_25prob_voxels_ROIset_RPI.nii.gz\n",
      "\n",
      "The ROI set \"WashU297_plus_thalamus_25prob_voxels_ROIset_RPI.nii.gz\" is nifit file of cortical ROIs + thalamus voxel masks (each voxel is a unique integer). This was creating by combining the Gordon 333 atlas from the Petersen group (after clipping out ROIs that we don't have good coverage on), + a thalamic voxel mask created from the FSL thalamus template (comes with FSL distribution). \n",
      "\n",
      "Inset is the input resting-state 4D file\n",
      "\n",
      "Output \"thalamocortical_corrmat\" is the adj matrices plus some added headers describing the out put. We can then extract the dj matrix using:\n",
      "\n",
      "num=$(expr $(wc -l ${s}_thalamocortical_corrmat_000.netcc | awk '{print $1}') - 4)\n",
      "tail -n $num ${s}_thalamocortical_corrmat_000.netcc > t${s}_FIX_thalamocortical_corrmat\n",
      "\n",
      "You will then have to extract the ROI x ROI adj matrix for each subject, and maybe average them."
     ]
    },
    {
     "cell_type": "code",
     "collapsed": false,
     "input": [
      "# load the averaged thalamocortical adj matrix\n",
      "AdjMat = np.loadtxt('/Users/kaihwang/Google Drive/Projects/Thalamus-Rest/ThalamoCorticalAveMat')\n",
      "\n",
      "# load the ROI name vector of the full thalamocortical adj matrix\n",
      "Thalamocortical_ROIs = np.loadtxt('./Thalamocortical_ROIs_index')\n",
      "\n",
      "# load the name vector of the thalamic voxels\n",
      "Thalamic_voxels = np.loadtxt('./Thalamic_voxel_index')\n",
      "\n",
      "# load the name vector of the cortical ROIs \n",
      "Cortical_ROIs = np.loadtxt('./Cortical_ROI_index')\n"
     ],
     "language": "python",
     "metadata": {},
     "outputs": [],
     "prompt_number": 2
    },
    {
     "cell_type": "code",
     "collapsed": false,
     "input": [
      "# Double check the ROI numbers match\n",
      "\n",
      "print(len(Thalamocortical_ROIs) == len(Cortical_ROIs) + len(Thalamic_voxels))\n"
     ],
     "language": "python",
     "metadata": {},
     "outputs": [
      {
       "output_type": "stream",
       "stream": "stdout",
       "text": [
        "True\n"
       ]
      }
     ],
     "prompt_number": 3
    },
    {
     "cell_type": "code",
     "collapsed": false,
     "input": [
      "#create cortical ROI index\n",
      "Cortical_indices = np.array([])\n",
      "for i in range(0,len(Cortical_ROIs)):\n",
      "    Cortical_indices = np.append(Cortical_indices, np.where(Thalamocortical_ROIs==Cortical_ROIs[i]))\n",
      "\n",
      "Cortical_indices = Cortical_indices.astype(int)\n",
      "\n",
      "#Create thalamus voxel index\n",
      "Thalamus_indices = np.array([])\n",
      "for i in range(0,len(Thalamic_voxels)):\n",
      "    Thalamus_indices = np.append(Thalamus_indices, np.where(Thalamocortical_ROIs==Thalamic_voxels[i]))\n",
      "    \n",
      "Thalamus_indices = Thalamus_indices.astype(int)  # I don't understand why I can't change the datatype itself using copy=false\n",
      "\n",
      "print(Thalamus_indices)"
     ],
     "language": "python",
     "metadata": {},
     "outputs": [
      {
       "output_type": "stream",
       "stream": "stdout",
       "text": [
        "[ 297  298  299 ..., 3833 3834 3835]\n"
       ]
      }
     ],
     "prompt_number": 4
    },
    {
     "cell_type": "code",
     "collapsed": true,
     "input": [
      "#initialize output as dictionary. \n",
      "\n",
      "Thalamocortical_Targets = {}\n",
      "for i_thalamus in Thalamus_indices:\n",
      "    r_vec = AdjMat[i_thalamus,Cortical_indices] #extract r values bewteen a given thalamic voxel and cortical ROIs\n",
      "    index = np.argsort(r_vec) # sort r values, save index       \n",
      "    index = index[::-1] # reverse index (highest to lowest r values)\n",
      "    \n",
      "    # rank the cortical ROI number by highest to lowerst r value, then save to a dictionary where the voxel number is the key \n",
      "    Thalamocortical_Targets[str(int(Thalamocortical_ROIs[i_thalamus]))] = Cortical_ROIs[index]"
     ],
     "language": "python",
     "metadata": {},
     "outputs": [],
     "prompt_number": 22
    },
    {
     "cell_type": "code",
     "collapsed": false,
     "input": [],
     "language": "python",
     "metadata": {},
     "outputs": [],
     "prompt_number": 21
    },
    {
     "cell_type": "code",
     "collapsed": false,
     "input": [],
     "language": "python",
     "metadata": {},
     "outputs": [],
     "prompt_number": 21
    },
    {
     "cell_type": "code",
     "collapsed": false,
     "input": [],
     "language": "python",
     "metadata": {},
     "outputs": [],
     "prompt_number": 113
    },
    {
     "cell_type": "code",
     "collapsed": false,
     "input": [],
     "language": "python",
     "metadata": {},
     "outputs": []
    }
   ],
   "metadata": {}
  }
 ]
}