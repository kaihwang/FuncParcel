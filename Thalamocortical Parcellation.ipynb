{
 "metadata": {
  "name": "",
  "signature": "sha256:501b6aeb3409924f86bed0737e2e849b110e0a02e8aeabbfee5c3bfa45c985a5"
 },
 "nbformat": 3,
 "nbformat_minor": 0,
 "worksheets": [
  {
   "cells": [
    {
     "cell_type": "markdown",
     "metadata": {},
     "source": [
      "# Here try to do thalamocortical parcellation in python\n"
     ]
    },
    {
     "cell_type": "markdown",
     "metadata": {},
     "source": [
      "3836 ROIs in the 297 thalamocortical parcellation file\n"
     ]
    }
   ],
   "metadata": {}
  }
 ]
}