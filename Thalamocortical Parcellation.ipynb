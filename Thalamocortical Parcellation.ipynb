{
 "metadata": {
  "name": "",
  "signature": "sha256:d9625f44eca391f523ccfd97a4b6700f3df1039648114751ac7cf13d6af5517a"
 },
 "nbformat": 3,
 "nbformat_minor": 0,
 "worksheets": [
  {
   "cells": [
    {
     "cell_type": "markdown",
     "metadata": {},
     "source": [
      "# Here try to do thalamocortical parcellation in python\n"
     ]
    },
    {
     "cell_type": "markdown",
     "metadata": {},
     "source": [
      "ROI information\n",
      "\n",
      "* 3836 ROIs in the 297 thalamocortical parcellation file\n",
      "\n",
      "* 3539 voxels in thalammic parcellation files\n",
      "\n",
      "* 297 ROIs in cortical ROI file\n"
     ]
    },
    {
     "cell_type": "code",
     "collapsed": false,
     "input": [
      "import numpy as np\n",
      "import scipy as sp\n",
      "import scipy.io as sio\n",
      "import matplotlib.pyplot as plt\n",
      "from __future__ import division, print_function"
     ],
     "language": "python",
     "metadata": {},
     "outputs": [],
     "prompt_number": 40
    },
    {
     "cell_type": "code",
     "collapsed": false,
     "input": [
      "# load the averaged thalamocortical adj matrix\n",
      "AdjMat = np.loadtxt('/Users/kaihwang/Google Drive/Projects/Thalamus-Rest/ThalamoCorticalAveMat')\n",
      "\n",
      "# load the ROI name vector of the full thalamocortical adj matrix\n",
      "Thalamocortical_ROIs = np.loadtxt('./Thalamocortical_ROIs_index')\n",
      "\n",
      "# load the name vector of the thalamic voxels\n",
      "Thalamic_voxels = np.loadtxt('./Thalamic_voxel_index')\n",
      "\n",
      "# load the name vector of the cortical ROIs \n",
      "Cortical_ROIs = np.loadtxt('./Cortical_ROI_index')\n"
     ],
     "language": "python",
     "metadata": {},
     "outputs": [],
     "prompt_number": 43
    },
    {
     "cell_type": "code",
     "collapsed": false,
     "input": [
      "# Double check the ROIs match\n",
      "\n",
      "print(len(Thalamocortical_ROIs) == len(Cortical_ROIs) + len(Thalamic_voxels))\n"
     ],
     "language": "python",
     "metadata": {},
     "outputs": [
      {
       "output_type": "stream",
       "stream": "stdout",
       "text": [
        "True\n"
       ]
      }
     ],
     "prompt_number": 52
    },
    {
     "cell_type": "code",
     "collapsed": false,
     "input": [
      "#create cortical ROI index\n",
      "Cortical_indices=np.array([])\n",
      "for i in range(0,len(Cortical_ROIs)):\n",
      "    Cortical_indices=np.append(Cortical_indices, np.where(Thalamocortical_ROIs==Cortical_ROIs[i]))\n",
      "\n"
     ],
     "language": "python",
     "metadata": {},
     "outputs": [
      {
       "metadata": {},
       "output_type": "pyout",
       "prompt_number": 94,
       "text": [
        "297"
       ]
      }
     ],
     "prompt_number": 94
    },
    {
     "cell_type": "code",
     "collapsed": true,
     "input": [
      "for i_thalamus in range(0,len(Thalamic_voxels)):\n",
      "    #print(Thalamocortical_ROIs[Thalamocortical_ROIs==Thalamic_voxels[i_thalamus]])\n",
      "    #np.where()\n",
      "    #for i_cortex in range(1,len(Cortical_ROIs)):\n",
      "        \n",
      "    "
     ],
     "language": "python",
     "metadata": {},
     "outputs": [
      {
       "ename": "IndentationError",
       "evalue": "expected an indented block (<ipython-input-57-5191f5ff598b>, line 6)",
       "output_type": "pyerr",
       "traceback": [
        "\u001b[0;36m  File \u001b[0;32m\"<ipython-input-57-5191f5ff598b>\"\u001b[0;36m, line \u001b[0;32m6\u001b[0m\n\u001b[0;31m    \u001b[0m\n\u001b[0m    ^\u001b[0m\n\u001b[0;31mIndentationError\u001b[0m\u001b[0;31m:\u001b[0m expected an indented block\n"
       ]
      }
     ],
     "prompt_number": 57
    },
    {
     "cell_type": "code",
     "collapsed": false,
     "input": [],
     "language": "python",
     "metadata": {},
     "outputs": [],
     "prompt_number": 82
    },
    {
     "cell_type": "code",
     "collapsed": false,
     "input": [],
     "language": "python",
     "metadata": {},
     "outputs": [
      {
       "metadata": {},
       "output_type": "pyout",
       "prompt_number": 161,
       "text": [
        "numpy.void"
       ]
      }
     ],
     "prompt_number": 161
    },
    {
     "cell_type": "code",
     "collapsed": false,
     "input": [],
     "language": "python",
     "metadata": {},
     "outputs": [],
     "prompt_number": 113
    },
    {
     "cell_type": "code",
     "collapsed": false,
     "input": [],
     "language": "python",
     "metadata": {},
     "outputs": []
    }
   ],
   "metadata": {}
  }
 ]
}