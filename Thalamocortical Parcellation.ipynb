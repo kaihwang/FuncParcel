{
 "metadata": {
  "name": "",
  "signature": "sha256:b10503e3841cf6fb66190d7698d8262e1134fba29e3b18a3b3103a0254498249"
 },
 "nbformat": 3,
 "nbformat_minor": 0,
 "worksheets": [
  {
   "cells": [
    {
     "cell_type": "markdown",
     "metadata": {},
     "source": [
      "# Here try to do thalamocortical parcellation in python\n",
      "\n",
      "The process works like this. \n",
      "\n",
      "* You will need a set of ROI that consists of: (1) the cortex, (2) a subcortical mask that you wish to parcellate based on its connectivity profile with the cortex, in this case the thalamus. \n",
      "* The cortical ROIs should be labeled as integer in a NIFTI file. The subcortical mask should also have each voxel labeled as different integer values. Note the values cannot overlap with corticla ROIs.\n",
      "* This combined ROI set will then be used to generate a subcortical+cortical full correlation matrix (adjacency matrix). Essentially BOLD timesires from each ROI and subcortical voxel will be correlated with each other using 3dNetCorr.\n",
      "* The output adjancency matrix from each subject can then be averaged. Alternatively it is possible to do this parcellation on a subject by subject basis, but its not implemented yet.\n",
      "* For each subcortical voxel, its connectivity strength with different cortical ROIs will then be sorted (ranked). \n",
      "* You can then classify the subcortical voxel based which cortical region (network, module) its most strongly connected to."
     ]
    },
    {
     "cell_type": "markdown",
     "metadata": {},
     "source": [
      "ROI used in the following example\n",
      "* Total of 3836 ROIs in the Thalamus + cortex parcellation file\n",
      "* 3539 voxels in thalammic parcellation files\n",
      "* 297 ROIs in cortical ROI file. "
     ]
    },
    {
     "cell_type": "code",
     "collapsed": false,
     "input": [
      "import numpy as np\n",
      "import scipy as sp\n",
      "import scipy.io as sio\n",
      "import matplotlib.pyplot as plt\n",
      "import pickle\n",
      "import csv\n",
      "from __future__ import division, print_function"
     ],
     "language": "python",
     "metadata": {},
     "outputs": [],
     "prompt_number": 16
    },
    {
     "cell_type": "markdown",
     "metadata": {},
     "source": [
      "First use 3dNetCorr to create thalamocortical adj matrrices:\n",
      "\n",
      "3dNetCorr -prefix ${s}_thalamocortical_corrmat \\\n",
      "-inset input.nii.gz \\\n",
      "-in_rois WashU297_plus_thalamus_25prob_voxels_ROIset_RPI.nii.gz\n",
      "\n",
      "The ROI set \"WashU297_plus_thalamus_25prob_voxels_ROIset_RPI.nii.gz\" is nifit file of cortical ROIs + thalamus voxel masks (each voxel is a unique integer). This was creating by combining the Gordon 333 atlas from the Petersen group (after clipping out ROIs that we don't have good coverage on), + a thalamic voxel mask created from the FSL thalamus template (comes with FSL distribution). \n",
      "\n",
      "Inset is the input resting-state 4D file\n",
      "\n",
      "Output \"thalamocortical_corrmat\" is the adj matrices plus some added headers describing the out put. We can then extract the adj matrix in the terminal by using head + tail.\n",
      "\n",
      "The adj matrices are usually averaged across subjects:"
     ]
    },
    {
     "cell_type": "code",
     "collapsed": false,
     "input": [
      "# Here insert code for average the adj matrices\n"
     ],
     "language": "python",
     "metadata": {},
     "outputs": [],
     "prompt_number": 4
    },
    {
     "cell_type": "code",
     "collapsed": false,
     "input": [
      "# load the averaged thalamocortical adj matrix\n",
      "AdjMat = np.loadtxt('/Users/kaihwang/Google Drive/Projects/Thalamus-Rest/ThalamoCorticalAveMat')\n",
      "#(I'm lazy, that averaged matrices was created in matlab.... will write a separate block code sometime)\n",
      "\n",
      "# load the ROI name vector of the full thalamocortical adj matrix\n",
      "Thalamocortical_ROIs = np.loadtxt('./Thalamocortical_ROIs_index')\n",
      "\n",
      "# load the name vector of the thalamic voxels\n",
      "Thalamic_voxels = np.loadtxt('./Thalamic_voxel_index')\n",
      "\n",
      "# load the name vector of the cortical ROIs \n",
      "Cortical_ROIs = np.loadtxt('./Cortical_ROI_index')\n"
     ],
     "language": "python",
     "metadata": {},
     "outputs": [],
     "prompt_number": 5
    },
    {
     "cell_type": "code",
     "collapsed": false,
     "input": [
      "# Double check the ROI numbers match\n",
      "print(len(Thalamocortical_ROIs) == len(Cortical_ROIs) + len(Thalamic_voxels))"
     ],
     "language": "python",
     "metadata": {},
     "outputs": [
      {
       "output_type": "stream",
       "stream": "stdout",
       "text": [
        "True\n"
       ]
      }
     ],
     "prompt_number": 6
    },
    {
     "cell_type": "markdown",
     "metadata": {},
     "source": [
      "Each ROI and thalamic voxel has a unique integer. So we need to extract the matrix indeces of those numbers."
     ]
    },
    {
     "cell_type": "code",
     "collapsed": false,
     "input": [
      "#create cortical ROI index\n",
      "Cortical_indices = np.array([])\n",
      "for i in range(0,len(Cortical_ROIs)):\n",
      "    Cortical_indices = np.append(Cortical_indices, np.where(Thalamocortical_ROIs==Cortical_ROIs[i]))\n",
      "\n",
      "Cortical_indices = Cortical_indices.astype(int)\n",
      "\n",
      "#Create thalamus voxel index\n",
      "Thalamus_indices = np.array([])\n",
      "for i in range(0,len(Thalamic_voxels)):\n",
      "    Thalamus_indices = np.append(Thalamus_indices, np.where(Thalamocortical_ROIs==Thalamic_voxels[i]))\n",
      "    \n",
      "Thalamus_indices = Thalamus_indices.astype(int)  # I don't understand why I can't change the datatype itself using copy=false"
     ],
     "language": "python",
     "metadata": {},
     "outputs": [],
     "prompt_number": 7
    },
    {
     "cell_type": "markdown",
     "metadata": {},
     "source": [
      "Then for each thalamus voxel rank the cortical ROIs based on its thalamocortical connectivity strength. "
     ]
    },
    {
     "cell_type": "code",
     "collapsed": true,
     "input": [
      "#initialize output as dictionary. \n",
      "Thalamocortical_Targets = {}\n",
      "\n",
      "for i_thalamus in Thalamus_indices:\n",
      "    r_vec = AdjMat[i_thalamus,Cortical_indices] #extract r values bewteen a given thalamic voxel and cortical ROIs\n",
      "    index = np.argsort(r_vec) # sort r values, save index       \n",
      "    index = index[::-1] # reverse index (highest to lowest r values)\n",
      "    \n",
      "    # rank the cortical ROI number by highest to lowerst r value, then save to a dictionary where the voxel number is the key \n",
      "    Thalamocortical_Targets[str(int(Thalamocortical_ROIs[i_thalamus]))] = Cortical_ROIs[index]"
     ],
     "language": "python",
     "metadata": {},
     "outputs": [],
     "prompt_number": 11
    },
    {
     "cell_type": "markdown",
     "metadata": {},
     "source": [
      "Write out the target dictionary to a csv file and pickle"
     ]
    },
    {
     "cell_type": "code",
     "collapsed": false,
     "input": [
      "with open('/Users/kaihwang/Google Drive/Projects/Thalamus-Rest/thalamocortical_target.csv', 'wb') as f: \n",
      "    w = csv.DictWriter(f, Thalamocortical_Targets.keys())\n",
      "    w.writeheader()\n",
      "    w.writerow(Thalamocortical_Targets)\n",
      "    \n",
      "pickle.dump( Thalamocortical_Targets, open( \"/Users/kaihwang/Google Drive/Projects/Thalamus-Rest/Thalamocortical_Targets.p\", \"wb\" ) )"
     ],
     "language": "python",
     "metadata": {},
     "outputs": [],
     "prompt_number": 18
    },
    {
     "cell_type": "markdown",
     "metadata": {},
     "source": [
      "Read the pickle output"
     ]
    },
    {
     "cell_type": "code",
     "collapsed": false,
     "input": [
      "Thalamocortical_Targets = pickle.load( open( \"/Users/kaihwang/Google Drive/Projects/Thalamus-Rest/Thalamocortical_Targets.p\", \"rb\" ) )"
     ],
     "language": "python",
     "metadata": {},
     "outputs": [],
     "prompt_number": 19
    },
    {
     "cell_type": "code",
     "collapsed": false,
     "input": [],
     "language": "python",
     "metadata": {},
     "outputs": []
    }
   ],
   "metadata": {}
  }
 ]
}